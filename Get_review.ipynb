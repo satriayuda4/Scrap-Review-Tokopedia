{
 "cells": [
  {
   "cell_type": "code",
   "execution_count": 1,
   "id": "38721419",
   "metadata": {},
   "outputs": [],
   "source": [
    "from selenium import webdriver\n",
    "from selenium.webdriver.chrome.options import Options\n",
    "import time"
   ]
  },
  {
   "cell_type": "code",
   "execution_count": 2,
   "id": "d3b19348",
   "metadata": {},
   "outputs": [],
   "source": [
    "def chrome_driver_headless():\n",
    "    try:\n",
    "        chrome_options = Options()\n",
    "        chrome_options.add_argument(\"--headless\")\n",
    "\n",
    "        PATH = 'chromedriver.exe'\n",
    "        driver = webdriver.Chrome(PATH, options = chrome_options)\n",
    "    except:\n",
    "        print(\"Please check your chrome driver version\")"
   ]
  },
  {
   "cell_type": "code",
   "execution_count": 3,
   "id": "91376f00",
   "metadata": {},
   "outputs": [],
   "source": [
    "def chrome_driver():\n",
    "    PATH = 'chromedriver.exe'\n",
    "    driver = webdriver.Chrome(PATH)\n",
    "    return driver"
   ]
  },
  {
   "cell_type": "code",
   "execution_count": 4,
   "id": "4d176ae3",
   "metadata": {},
   "outputs": [],
   "source": [
    "def input_link():\n",
    "    link = input(\"Copy and Paste the page here: \")\n",
    "    return link"
   ]
  },
  {
   "cell_type": "code",
   "execution_count": 5,
   "id": "e2c6f1ff",
   "metadata": {},
   "outputs": [],
   "source": [
    "def open_link(driver, link):\n",
    "    driver.get(link)\n",
    "    driver.implicitly_wait(2)"
   ]
  },
  {
   "cell_type": "code",
   "execution_count": 6,
   "id": "bdcde20a",
   "metadata": {},
   "outputs": [],
   "source": [
    "def slowly_scroll(driver,n):\n",
    "    y = 1000\n",
    "    for timer in range(0,n):\n",
    "         driver.execute_script(\"window.scrollTo(0, \"+str(y)+\")\")\n",
    "         y += 1000  \n",
    "         time.sleep(1)"
   ]
  },
  {
   "cell_type": "code",
   "execution_count": 7,
   "id": "05ca1d95",
   "metadata": {},
   "outputs": [],
   "source": [
    "def close_link(driver):\n",
    "    driver.quit()"
   ]
  },
  {
   "cell_type": "code",
   "execution_count": 8,
   "id": "71df5ae6",
   "metadata": {},
   "outputs": [],
   "source": [
    "def scrap_title():\n",
    "    path = '//*[@id=\"pdp_comp-product_content\"]/div/h1'\n",
    "    element = driver.find_element_by_xpath(path)\n",
    "    title = element.text\n",
    "    return title"
   ]
  },
  {
   "cell_type": "code",
   "execution_count": 9,
   "id": "71d090d9",
   "metadata": {},
   "outputs": [],
   "source": [
    "def total_review():\n",
    "    path = '//*[@id=\"pdp_comp-review\"]/h2[4]'\n",
    "    element = driver.find_element_by_xpath(path)\n",
    "    text = str(element.text)\n",
    "    num = text.split()[-1]\n",
    "    num = num.replace(\"(\",\"\")\n",
    "    num = num.replace(\")\",\"\")\n",
    "    return num"
   ]
  },
  {
   "cell_type": "code",
   "execution_count": 10,
   "id": "97fc57e1",
   "metadata": {},
   "outputs": [],
   "source": [
    "def total_pages():\n",
    "    path = '//*[@id=\"pdp_comp-review\"]/div[15]/div/div/button[10]'\n",
    "    element = driver.find_element_by_xpath(path)\n",
    "    text = str(element.text)\n",
    "    return text"
   ]
  },
  {
   "cell_type": "code",
   "execution_count": 11,
   "id": "262481b9",
   "metadata": {},
   "outputs": [],
   "source": [
    "def scrap_one_review(path):\n",
    "    element = driver.find_element_by_xpath(path)\n",
    "    text = str(element.text)\n",
    "    return text"
   ]
  },
  {
   "cell_type": "code",
   "execution_count": 19,
   "id": "597c32b1",
   "metadata": {},
   "outputs": [],
   "source": [
    "def click_next(driver):\n",
    "    driver.implicitly_wait(5)\n",
    "    #path = '//*[@id=\"header-main-wrapper\"]/div[5]/nav/div/div[2]/div/div[2]'\n",
    "    path = '//*[@id=\"pdp_comp-review\"]/div[15]/div/div/button[11]'\n",
    "    driver.find_element_by_xpath(path).click()\n",
    "    driver.implicitly_wait(5)"
   ]
  },
  {
   "cell_type": "code",
   "execution_count": 13,
   "id": "a562e611",
   "metadata": {},
   "outputs": [
    {
     "name": "stdout",
     "output_type": "stream",
     "text": [
      "Copy and Paste the page here: https://www.tokopedia.com/soundpeats-offic/soundpeats-sonic-aptx-adaptive-true-wireless-earbuds-grey?trkid=f%3DP0Cb0_src%3Dsprint-sale_page%3D1_ob%3D29_catid%3D565\n"
     ]
    }
   ],
   "source": [
    "link = input_link()\n",
    "driver = chrome_driver()\n",
    "open_link(driver, link)\n",
    "slowly_scroll(driver,12)"
   ]
  },
  {
   "cell_type": "code",
   "execution_count": 14,
   "id": "bb6ef1e9",
   "metadata": {},
   "outputs": [],
   "source": [
    "#scraping info\n",
    "title = scrap_title()\n",
    "review_num = total_review()\n",
    "pages = total_pages()"
   ]
  },
  {
   "cell_type": "code",
   "execution_count": 15,
   "id": "2d7fa933",
   "metadata": {},
   "outputs": [
    {
     "name": "stdout",
     "output_type": "stream",
     "text": [
      "SoundPEATS Sonic APTX Adaptive True Wireless Earbuds - Grey\n",
      "506\n",
      "51\n"
     ]
    }
   ],
   "source": [
    "print(title)\n",
    "print(review_num)\n",
    "print(pages)"
   ]
  },
  {
   "cell_type": "code",
   "execution_count": 16,
   "id": "ccaf87db",
   "metadata": {},
   "outputs": [
    {
     "name": "stdout",
     "output_type": "stream",
     "text": [
      "47\n"
     ]
    }
   ],
   "source": [
    "#last page num\n",
    "last = int(review_num)%int(pages)\n",
    "print(last)"
   ]
  },
  {
   "cell_type": "code",
   "execution_count": 17,
   "id": "20cbcd8b",
   "metadata": {},
   "outputs": [],
   "source": [
    "#scrap review in one review page\n",
    "reviews = []\n",
    "for i in range(10):\n",
    "    i += 5\n",
    "    review = scrap_one_review('//*[@id=\"pdp_comp-review\"]/div[' + str(i) + ']/div/div[2]/p/span')\n",
    "    reviews.append(review)"
   ]
  },
  {
   "cell_type": "code",
   "execution_count": 68,
   "id": "0c16f5e8",
   "metadata": {},
   "outputs": [],
   "source": [
    "click_next(driver)"
   ]
  },
  {
   "cell_type": "code",
   "execution_count": 69,
   "id": "69543b57",
   "metadata": {},
   "outputs": [],
   "source": [
    "for i in range(10):\n",
    "    i += 5\n",
    "    review = scrap_one_review('//*[@id=\"pdp_comp-review\"]/div[' + str(i) + ']/div/div[2]/p/span')\n",
    "    reviews.append(review)"
   ]
  },
  {
   "cell_type": "code",
   "execution_count": 70,
   "id": "8450c1e8",
   "metadata": {},
   "outputs": [
    {
     "data": {
      "text/plain": [
       "['Barangnya original 👍.',\n",
       " 'Suaranya jernih. Value for money.',\n",
       " 'Barangnya original 👍. Ada garansi resmi. Suaranya jernih. Noise cancellation mantap. Bass-nya mantap. Value for money. Koneksi Android lancar. Koneksi bluetooth kuat. cuman kok garansi nya mulai dari bulan Juli 2021, padahal sy beli bulan Oktober 2021??.',\n",
       " 'asik soundnya . batrai nya tob . semoga awet sentosa',\n",
       " 'Sudah hampir dua minggu pakai dan puas banget. Kuat sambungan bluetoothnya dan mudah disambungkan ke laptop dan hape. Kalau suaranya menurut saya sudah bagus khususnya di clarity, cocok buat rapat zoom. Recommended👍',\n",
       " 'Barangnya original 👍',\n",
       " 'Suaranya jernih. Barangnya original 👍. Koneksi bluetooth kuat. bagusssss',\n",
       " 'Barangnya original 👍. Ada garansi resmi. Koneksi bluetooth kuat. Suaranya jernih. Material premium. Noise cancellation mantap. Bass-nya mantap.',\n",
       " 'Suaranya jernih. Nyaman dipakai lama. Barangnya original 👍. Ada garansi resmi. Koneksi bluetooth kuat. Desainnya modern 😍. Noise cancellation mantap. Baterai tahan lama. Bass-nya mantap. Material premium. Kabelnya kuat. Harganya terjangkau. Suaranya gurih. Value for money. Koneksi Android lancar. Nggak kresek-kresek. Suaranya bersih.',\n",
       " 'Ada garansi resmi. Barangnya original 👍. Suaranya jernih. Desainnya modern 😍. Material premium.',\n",
       " 'pesan dan selesai bayar hari rabu di bawah jam 2 harusnya bs lgsg kirim. sampe di tempat kamis jam stgh 8 malam. padahal pilih same day krn kamisnya mau dipake segera. kecewa.',\n",
       " 'suara bagus, tapi microphone JELEK BANGET BANGET BANGET',\n",
       " 'Paket sudah sampai di tujuan, barang yang diterima sesuai dengan yang diorder… Thanks Soundpeats Official dan Tokopedia',\n",
       " 'Barangnya original 👍 Ada garansi resmi Nyaman dipakai lama Koneksi bluetooth kuat. Baterai tahan lama, fitting di telinga enak banget, latensi/delaynya miniiim banget (paling minim dri semua tws tg pernah saya coba)\\n\\nBassnya terlalu lebay, bukan tipe saya banget, kalau make game mode awal2 suka kresek2 gitu, kalau kurang suka bass yg trlalu over mending cari tipe/merek yg lain.. agak kecewa dengan bass tg over bgitu, toi untung masih bisa setting EQ di aplikasi musik.\\n\\nLebih cocok dipake untuk gaming dripada penikmat musik.',\n",
       " 'Barangnya original 👍.',\n",
       " '',\n",
       " \"Point plus\\n- Pengiriman cepat Satu hari sampai\\n- Disediakan petunjuk Bahasa Indonesia\\n- Bass 3.5/5 Treble 4/5 Vocal 2.7/5\\n- Ada indikator pengecasan dan batrai, jadi memudahkan kita\\n- Design keren dan elegant\\n- Bisa digunakan satu saja baik kanan maupun kiri\\n- Sudah USB Type C\\n- Suara bising di sekitar lumayan terhalang\\n\\nPoint minus\\n- Package kurang aman menurut saya hanya diberi kardus tanpa bubble wrap\\n- Garansi tertera 3 bulan dari tanggal pembelian (Beli oktober tapi tertera Juli)\\n- Awal dateng suaranya ga bagus ada noise yg sangat ganggu ternyata harus di reset dulu\\n- Tombolnya tergolong keras\\n- Bahan case terkesan cheap tidak sesuai harga\\n- Ukuran termasuk besar di kuping saya\\n\\nOverall I do not recommend this for people who use it for online meetings or watching movies. But if you love to listen to music it's good enough.Desainnya modern 😍.\",\n",
       " 'Barangnya original 👍. Ada garansi resmi. Suaranya jernih. Value for money. Koneksi Android lancar. Suaranya bersih.',\n",
       " 'Nyaman dipakai lama Suaranya gurih Suaranya jernih Koneksi bluetooth kuat',\n",
       " 'Pengiriman cepat, packaging rapi, suaranya jelas, jernih, mudah dipakai dgn iphone. Harga terjangkau.',\n",
       " 'Barangnya original 👍. Ada garansi resmi. Desainnya modern 😍. Suaranya jernih. Noise cancellation mantap.',\n",
       " 'Suaranya jernih. Koneksi bluetooth kuat. Barangnya original 👍. Material premium. Nyaman dipakai lama. Baterai tahan lama. Ada garansi resmi. Suaranya gurih.',\n",
       " 'Suaranya jernih. Barangnya original 👍. Ada garansi resmi. Bass-nya mantap. Suaranya gurih. Harganya terjangkau. Koneksi Android lancar.',\n",
       " 'Suaranya jernih. Noise cancellation mantap. Suaranya bersih.',\n",
       " 'Pengirimannya cepett bangettt, order tengah malem, besok pagi sampe. Suara oke banget, jernih, bassnya berasa mantap lah. Mudah di pairing juga, batre tahan lama sesuai deskripsi. Untuk ukuran buds tapi gatau kenapa kurang sesuai, suka lepas di aku. Ohiya ini belum touch sensor, tapnya masih click. Overall oke dan ttp worth it berkualitas. Garansinya juga lama 6 bulan',\n",
       " 'cocokBarangnya original 👍.',\n",
       " 'Barangnya original. Koneksi Android lancar. Suara di laptop memang gak sekencang saat connect di HP, tapi overall puass. Pengiriman cepat banget pakai anteraja same day. Thank youu',\n",
       " 'barang sudah sampai mantab banget qualitynya. Suaranya jernih. Koneksi bluetooth kuat. Desainnya modern 😍. Noise cancellation mantap. Nggak kresek-kresek. Barangnya original 👍.',\n",
       " 'baru dipakai 3 hari suaranya hilang sebelah...',\n",
       " 'Gokil barangnya. Bassnya ajib, latency kecil banget malah gk berasa. Salah satu pilihan terbaik selain SE Truengine. Barangnya original 👍.',\n",
       " 'Barangnya original 👍. Ada garansi resmi. Desainnya modern 😍. Suaranya jernih. Noise cancellation mantap.',\n",
       " 'Suaranya jernih. Koneksi bluetooth kuat. Barangnya original 👍. Material premium. Nyaman dipakai lama. Baterai tahan lama. Ada garansi resmi. Suaranya gurih.',\n",
       " 'Suaranya jernih. Barangnya original 👍. Ada garansi resmi. Bass-nya mantap. Suaranya gurih. Harganya terjangkau. Koneksi Android lancar.',\n",
       " 'Suaranya jernih. Noise cancellation mantap. Suaranya bersih.',\n",
       " 'Pengirimannya cepett bangettt, order tengah malem, besok pagi sampe. Suara oke banget, jernih, bassnya berasa mantap lah. Mudah di pairing juga, batre tahan lama sesuai deskripsi. Untuk ukuran buds tapi gatau kenapa kurang sesuai, suka lepas di aku. Ohiya ini belum touch sensor, tapnya masih click. Overall oke dan ttp worth it berkualitas. Garansinya juga lama 6 bulan',\n",
       " 'cocokBarangnya original 👍.',\n",
       " 'Barangnya original. Koneksi Android lancar. Suara di laptop memang gak sekencang saat connect di HP, tapi overall puass. Pengiriman cepat banget pakai anteraja same day. Thank youu',\n",
       " 'barang sudah sampai mantab banget qualitynya. Suaranya jernih. Koneksi bluetooth kuat. Desainnya modern 😍. Noise cancellation mantap. Nggak kresek-kresek. Barangnya original 👍.',\n",
       " 'baru dipakai 3 hari suaranya hilang sebelah...',\n",
       " 'Gokil barangnya. Bassnya ajib, latency kecil banget malah gk berasa. Salah satu pilihan terbaik selain SE Truengine. Barangnya original 👍.',\n",
       " 'Barangnya original 👍.',\n",
       " 'Barangnya original 👍. Ada garansi resmi. \\n\\nrespon penjual cepat',\n",
       " 'Barangnya original 👍. Ada garansi resmi. Suaranya jernih. Koneksi bluetooth kuat. Noise cancellation mantap. Suaranya gurih. Value for money. Bass-nya mantap.',\n",
       " 'Barangnya original 👍. Ada garansi resmi. Desainnya modern 😍. Suaranya jernih. Koneksi bluetooth kuat. Nyaman dipakai lama. Noise cancellation mantap.',\n",
       " 'Barangnya original 👍. Suaranya jernih. Koneksi bluetooth kuat. Noise cancellation mantap. Bass-nya mantap. Value for money. Koneksi Android lancar. Nggak kresek-kresek. Suaranya bersih. Nyaman dipakai lama. Ada garansi resmi. Desainnya modern 😍.',\n",
       " 'Mantap, tp klo dipake lari agak kerasa gt geter2 twsnya',\n",
       " 'respon cepat, produk sesuai pesanan, packing bagus',\n",
       " 'Barangnya original 👍. Nyaman dipakai lama. Suaranya jernih. Noise cancellation mantap. Suaranya bersih.',\n",
       " 'Suaranya jernih. Koneksi bluetooth kuat. Desainnya modern 😍. Material premium. Ada garansi resmi. Bass-nya mantap. Suaranya gurih.',\n",
       " 'Bass-nya mantap, cuma kalo saya masih belum nemu yang bener bener nyaman dipakai lama\\n\\nmemang seharusnya jangan lama lama pake kalik yah 😅',\n",
       " 'Barangnya original 👍.',\n",
       " 'Barangnya original 👍. Ada garansi resmi. \\n\\nrespon penjual cepat',\n",
       " 'Barangnya original 👍. Ada garansi resmi. Suaranya jernih. Koneksi bluetooth kuat. Noise cancellation mantap. Suaranya gurih. Value for money. Bass-nya mantap.',\n",
       " 'Barangnya original 👍. Ada garansi resmi. Desainnya modern 😍. Suaranya jernih. Koneksi bluetooth kuat. Nyaman dipakai lama. Noise cancellation mantap.',\n",
       " 'Barangnya original 👍. Suaranya jernih. Koneksi bluetooth kuat. Noise cancellation mantap. Bass-nya mantap. Value for money. Koneksi Android lancar. Nggak kresek-kresek. Suaranya bersih. Nyaman dipakai lama. Ada garansi resmi. Desainnya modern 😍.',\n",
       " 'Mantap, tp klo dipake lari agak kerasa gt geter2 twsnya',\n",
       " 'respon cepat, produk sesuai pesanan, packing bagus',\n",
       " 'Barangnya original 👍. Nyaman dipakai lama. Suaranya jernih. Noise cancellation mantap. Suaranya bersih.',\n",
       " 'Suaranya jernih. Koneksi bluetooth kuat. Desainnya modern 😍. Material premium. Ada garansi resmi. Bass-nya mantap. Suaranya gurih.',\n",
       " 'Bass-nya mantap, cuma kalo saya masih belum nemu yang bener bener nyaman dipakai lama\\n\\nmemang seharusnya jangan lama lama pake kalik yah 😅',\n",
       " 'Barangnya original 👍.',\n",
       " 'Barangnya original 👍. Ada garansi resmi. \\n\\nrespon penjual cepat',\n",
       " 'Barangnya original 👍. Ada garansi resmi. Suaranya jernih. Koneksi bluetooth kuat. Noise cancellation mantap. Suaranya gurih. Value for money. Bass-nya mantap.',\n",
       " 'Barangnya original 👍. Ada garansi resmi. Desainnya modern 😍. Suaranya jernih. Koneksi bluetooth kuat. Nyaman dipakai lama. Noise cancellation mantap.',\n",
       " 'Barangnya original 👍. Suaranya jernih. Koneksi bluetooth kuat. Noise cancellation mantap. Bass-nya mantap. Value for money. Koneksi Android lancar. Nggak kresek-kresek. Suaranya bersih. Nyaman dipakai lama. Ada garansi resmi. Desainnya modern 😍.',\n",
       " 'Mantap, tp klo dipake lari agak kerasa gt geter2 twsnya',\n",
       " 'respon cepat, produk sesuai pesanan, packing bagus',\n",
       " 'Barangnya original 👍. Nyaman dipakai lama. Suaranya jernih. Noise cancellation mantap. Suaranya bersih.',\n",
       " 'Suaranya jernih. Koneksi bluetooth kuat. Desainnya modern 😍. Material premium. Ada garansi resmi. Bass-nya mantap. Suaranya gurih.',\n",
       " 'Bass-nya mantap, cuma kalo saya masih belum nemu yang bener bener nyaman dipakai lama\\n\\nmemang seharusnya jangan lama lama pake kalik yah 😅',\n",
       " 'packing rapih, sellernya responsif,,review produk: connect k bluetoothnya gampang bgt, Suaranya bersih gurih Nggak kresek-kresek, noise cancelationnya jg worked, untuk bassnya krn gw penggemar yg jedug2 jd nilainya 7,8/10 lah (pdahal udh pake dolby atmos) tp buat harga sgni gw gak ngerasa rugi, value 4 money lah, n yg paling penting smoga awet,,,disarankan klo bawa kendaraan pake 1 aja soalnya kedap bgt,,overall 8/10 buat ni produk,,',\n",
       " 'Barangnya original 👍. Ada garansi resmi. Koneksi bluetooth kuat. Suaranya jernih. Nyaman dipakai lama. Material premium. Desainnya modern 😍. Bass-nya mantap.',\n",
       " 'Barangnya original 👍. Ada garansi resmi. Koneksi bluetooth kuat. Suaranya jernih. Desainnya modern 😍. Nyaman dipakai lama. Noise cancellation mantap. Bass-nya mantap. Value for money.',\n",
       " '1. Respon seller.\\nIni ga ada obat sih. Saya checkout jam stgh 9 malam. Setengah 1 pagi ada notif penjual minta barang di pickup kurir, akhirnya kurir pick-up jam 7 pagi, daaannn TWS nya sampai rumah jam 8 malem. Ga sangka kirim keluar kota bisa secepat itu.\\n\\n2. Kualitas produk\\nPairing sangat mudah, dan cepat banget pairingnya. Sound quality, waahhh gila mantep bener. Noise cancellation nya bener2 bikin kedap.\\n\\n3. Negative side\\nIni yg ga diwanti-wanti sama seller. Setelah dapet experience dengan Sonic, kualitas speaker dan headset yg lain jadi berasa jelek bangeettt. Jadi sakit dengerin speaker kalo nonton TV. Parah sih ini harusnya dikasih tau dari awal.\\nSekarang jadi bingung karena pengen beli speaker wkwkwkk',\n",
       " 'Untk range 400rban++, TWS ini worth to buy krn kaya fitur, soundsig allaround, fitting nyaman, tgl gnti eartips aja uda ckup enak kok, uda type C jg, pengoperasian mudah jg.',\n",
       " 'Barangnya original 👍. Suaranya jernih. Nyaman dipakai lama. Ada garansi resmi. Koneksi bluetooth kuat. Desainnya modern 😍. Noise cancellation mantap. Baterai tahan lama. Bass-nya mantap. Suaranya bersih. Koneksi ke Apple Lancar. Koneksi Android lancar. Nggak kresek-kresek.',\n",
       " 'Barangnya original 👍 Suaranya jernih Ada garansi resmi Koneksi bluetooth kuat',\n",
       " 'barang original, kualitas sangat baik suara jernih Dan bass mantap sekali... sangat rekomen...',\n",
       " 'SEMUANYA PUASS!!👍🏻',\n",
       " 'suara ok, bass ok,',\n",
       " 'Barangnya original 👍. Bass-nya mantap. Harganya terjangkau.',\n",
       " 'keren. cmn buat yg suka denger hiphop kurang sih.\\nexperience unboxing nya jg kecewa sii. didorong2 ga keluar2 taunya dalemnya nempel sm kaca mikanya, terpaksa digunting jdinya nurunin harga kalo mau jual lgiBarangnya original 👍. Ada garansi resmi. Suaranya jernih. Koneksi bluetooth kuat. Desainnya modern 😍. Noise cancellation mantap.',\n",
       " 'Koneksi bluetooth kuat. Bass-nya mantap. Koneksi Android lancar. Suaranya bersih. Nggak kresek-kresek. Suaranya gurih. Ada garansi resmi. Material premium.',\n",
       " 'pengiriman cepat, rapi, barang sesuai spek. Barangnya original 👍. Ada garansi resmi. Value for money.',\n",
       " 'Barangnya original 👍. Suaranya jernih. Nyaman dipakai lama. Ada garansi resmi. Koneksi bluetooth kuat. Desainnya modern 😍. Baterai tahan lama. Noise cancellation mantap. Bass-nya mantap. Value for money.',\n",
       " 'Ada garansi resmi. Koneksi bluetooth kuat. Desainnya modern 😍. Material premium. Barangnya original 👍. Suaranya jernih.',\n",
       " 'Koneksi bluetooth kuat. Barangnya original 👍. Ada garansi resmi.',\n",
       " 'untuk detail suara cukup bagus, tetapi untuk di pakai main game seperti clash royale terdapat suara\" aneh yang cukup menggangu, tetapi kalo untuk denger music sangat pas bass nya dapet, fitting di telinga juga pas ngga mudah lepas.',\n",
       " 'micnya kurang mantap',\n",
       " 'Satu hal yang harus diapresiasi, pengirimannya cepet banget. Lusa pesan, hari ini sudah nyampe.\\nBarangnya belum di coba. Tapi dari review mungkin udah ga banyak yang harus dikomentari. Mudah2an pas dipake bagus tidak ada masalah. Barangnya original 👍 Suaranya jernih Nyaman dipakai lama Ada garansi resmi Koneksi bluetooth kuat Desainnya modern 😍 Material premium Baterai tahan lama Value for money Bass-nya mantap',\n",
       " 'Barangnya original 👍. seller resposif dan cepat ramah..Harganya terjangkau. Koneksi Android lancar.',\n",
       " 'keren. cmn buat yg suka denger hiphop kurang sih.\\nexperience unboxing nya jg kecewa sii. didorong2 ga keluar2 taunya dalemnya nempel sm kaca mikanya, terpaksa digunting jdinya nurunin harga kalo mau jual lgiBarangnya original 👍. Ada garansi resmi. Suaranya jernih. Koneksi bluetooth kuat. Desainnya modern 😍. Noise cancellation mantap.',\n",
       " 'Koneksi bluetooth kuat. Bass-nya mantap. Koneksi Android lancar. Suaranya bersih. Nggak kresek-kresek. Suaranya gurih. Ada garansi resmi. Material premium.',\n",
       " 'pengiriman cepat, rapi, barang sesuai spek. Barangnya original 👍. Ada garansi resmi. Value for money.',\n",
       " 'Barangnya original 👍. Suaranya jernih. Nyaman dipakai lama. Ada garansi resmi. Koneksi bluetooth kuat. Desainnya modern 😍. Baterai tahan lama. Noise cancellation mantap. Bass-nya mantap. Value for money.',\n",
       " 'Ada garansi resmi. Koneksi bluetooth kuat. Desainnya modern 😍. Material premium. Barangnya original 👍. Suaranya jernih.',\n",
       " 'Koneksi bluetooth kuat. Barangnya original 👍. Ada garansi resmi.',\n",
       " 'untuk detail suara cukup bagus, tetapi untuk di pakai main game seperti clash royale terdapat suara\" aneh yang cukup menggangu, tetapi kalo untuk denger music sangat pas bass nya dapet, fitting di telinga juga pas ngga mudah lepas.',\n",
       " 'micnya kurang mantap',\n",
       " 'Satu hal yang harus diapresiasi, pengirimannya cepet banget. Lusa pesan, hari ini sudah nyampe.\\nBarangnya belum di coba. Tapi dari review mungkin udah ga banyak yang harus dikomentari. Mudah2an pas dipake bagus tidak ada masalah. Barangnya original 👍 Suaranya jernih Nyaman dipakai lama Ada garansi resmi Koneksi bluetooth kuat Desainnya modern 😍 Material premium Baterai tahan lama Value for money Bass-nya mantap',\n",
       " 'Nyaman dipakai lama. Koneksi bluetooth kuat. Noise cancellation mantap.',\n",
       " 'keren 👍',\n",
       " 'Produk datang di hari sama pake sameday, beli pas flash sale tp klo lihat dr harga toko sebelah cuma dapat diskon 50rban bukan 60%.\\n\\nKotak earbuds kelihatan keren. Earbudsnya mesti di cas dulu, tp casingnya sepertinya dah berisi daya. Casing jg modelnya keren, earbudsnya ketarik masuk ke casing klo deket, keqnya pake magnet.\\n\\nkartu garansi tersedia, ga perlu registrasi atau kirim, tinggal claim dgn bukti pembelian klo ada masalah. Buku manualnya multi bahasa, tp bahasa Indonesianya fotokopian, tulisannya susah dibaca tolong diperbaiki.\\n\\nSoal playtime, kemarin saya coba biarkan nyala lama dgn volume 80%, krn mati lampu ga bisa full test 15 jam tapi earbuds berfungsi ok selama 11 jam nonstop/\\n\\nSetelah dicas, earbuds dites, konek ke pc hampir instan. Tes musik ok, agak ngebass. Tes voice chat ok, mic kedengeran jelas walau pendengar berasa ini mic murah. Tes main game, tanpa game mode jg latency ga berasa-- saya ga main game tembak2an sih. Earbuds disertai tiga ukuran untuk ujungnya jd bisa dipilih yg mana yg nyaman buat kuping. Volume ga terlalu kencang, jd saya nyalain di 90%.\\n\\nSeller waktu ditanya soal bluetooth dongle di chat jawabnya keq hasil google translate, mungkin cape buru2 ngurusin flash sale.\\n\\nOverall senang banget, dan pertama kalinya pake wireless audio.',\n",
       " 'adminya kayak robot, penjelasannya berbeda dengan yang ada di deskripsi dan kurang membantu jika menanya. cuman pengiriman sangat cepat, dan produk lumayan oke',\n",
       " 'mantul',\n",
       " 'Barangnya original 👍. Ada garansi resmi. Suaranya jernih. Desainnya modern 😍. Nyaman dipakai lama. Koneksi bluetooth kuat.',\n",
       " 'Barangnya original 👍. Suaranya jernih. Koneksi bluetooth kuat. Ada garansi resmi.',\n",
       " 'Bagus & matap untuk harga segitu. Koneksi ke Apple & PC DG BLUETOOTH Lancar, Suaranya jernih',\n",
       " 'Barangnya original 👍. Ada garansi resmi. Suaranya jernih. Koneksi Android lancar. Suaranya bersih.',\n",
       " 'Barangnya original 👍.',\n",
       " 'Ada garansi resmi. Suaranya jernih. Koneksi ke Apple Lancar. Koneksi Android lancar.',\n",
       " 'Barangnya original 👍. Ada garansi resmi. Suaranya jernih. Koneksi bluetooth kuat. Nyaman dipakai lama. Desainnya modern 😍. Noise cancellation mantap.',\n",
       " 'Ada garansi resmi. Barangnya original 👍.',\n",
       " 'Barangnya original 👍 Nyaman dipakai lama Koneksi bluetooth kuat Value for money',\n",
       " 'Sampai sekarang setelah 2 bulan masih bagus. cukup kuat beberapa kali jatuh. kualitas baterai dan koneksi sangat baik, kualitas suara cukup untuk harga dan fitur yang ditawarkan.',\n",
       " 'overall sih bagus, tapi game mode gk bs dipakai, suara putus\" kalo pake game mode. tak tau memang bgt ap produk defektif, mau return ribet, mahal ongkir, ya terima aj.',\n",
       " '[Seller Review]\\n\\nSaya akan memberikan review menggunakan skala 1/10 lalu akan menjelaskan pengalaman saya setelah menggunakan earbuds dari soundpeats ini kurang lebih selama satu hari.\\n\\nKecepatan membalas : 10/10\\nKecepatan pengiriman : 10/10\\nPackaging : 10/10\\n\\n-------------------------\\n\\n[Product Review]\\n\\nEar Buds Build Quality : 10/10\\nEar Buds Shell Build Quality : 7/10\\n\\nEarbuds ini kalo dikuping saya sih posisinya enak, pas dikuping dan dikasih beberapa varian ear-tips mulai dari Small, Medium, dan Large it all depends on your preferences. Untuk kualitas suara sendiri pun bagus, bagus banget karena ya emang earbuds ini udah ada aptX-nya. Outstanding. Tapi kalo untuk saya agak-sedikit kurang pas untuk dibagian vocalnya karena terlalu nusuk (mungkin earbuds ini agak kurang cocok untuk orang yang senang denger music yang dominan di bagian vocal) tp untuk dibagian bass itu mantep banget sih.\\n\\nsekian review singkat dari saya, terimakasih.\\nsukses terus SoundPEATS!',\n",
       " 'barang cepat sampai, dus masih segel rapih utk hadiah keteman, semoga bagus sprt order pertama. 👍👍👍',\n",
       " 'Good Job.\\nBarangnya original 👍. Ada garansi resmi.',\n",
       " 'Barangnya original 👍. Suaranya jernih.',\n",
       " 'Barangnya original 👍. Suaranya jernih. Nyaman dipakai lama. Desainnya modern 😍. Koneksi bluetooth kuat.',\n",
       " 'Bass-nya mantap',\n",
       " 'barang sesuai bro\\ncuma sehari sampe\\noverall puas\\ncuma sayangnya gak ada aplikasi utk atur equalizernya dan update firmware hehehe\\nsukses slalu utk soundpeats',\n",
       " 'suara mantap, bass nendang tapi gak lebay, separasinya keren, treble maknyus, overall untuk suara nilai 9/10, material oke, tampilan kece ada led nya warna putih dan orange di logo S nya nilai untuk tampilan 10/10, game mode nya mantap, tapi masih ada delay sgt sedikit saat main real drum di galaxy s21 ultra, range bluetoothnya jauh, beda ruangan masih koneksi dengan baik, walaupun tombol masih fisik tapi suka, dipake dihelm aman gak kepencet2, pengiriman cepat, packing rapih, semoga awet dan klaim garansinya gampang.',\n",
       " 'First Impression Review\\nHardware test: Xiaomi Mi 10 5G\\n\\nMaterial (Skor 8.5/10):\\n-Bahan cukup solid walaupun terbuat dr plastic\\n-Warna dan finishing elegan dan ga terlihat murahan\\n-Sayangnya hinge ga kerasa solid tp sistem magnetic cukup bisa diandalkan\\n-Tombol klik nya agak keras jadi agak ga nyaman kalo harus klik berkali2. mungkin setelah wear n tear bakal empuk(?)\\n\\nSound n connecticity (9.5/10 Setelah di EQ)\\n-di harga 460k dah dapet aptx adaptive dan bluetooth 5.2 worth it parah\\n-IPX5 bisa banget buat olahraga\\n-Bass sedikit lebih dominan dan punchy jadi suara lain agak ketutup terutama vokal jadi sedikit kurang. Tapi di hp xiaomi yg ada built in EQ nya dan pake preset \"Mi Half In-Ear\" jadi enak banget suaranya apalagi nonton film. berasa lg di bioskop\\n-cocok buat yg suka bass, kalo yg ga cocok bisa di equalizer pake preset dr hp atau app pilihan\\n-Mic jelas, suara oke. Lawan bicara mendengar jelas\\n-Kekurangan yg paling terasa cuma belum ada nya fast charging jadi harus punya adapter 5V 1A\\n-Latency blom test, tp youtube no problem dan no lag\\n-Fitur game mode mungkin berguna buat gamers\\n-ah satu lagi, control nya komplit banget!!!\\n\\nConclusion:\\nDiharga 400 ribuan, ini berkualitas banget. price to value nya tinggi. Buat yg pengen touch, pilih trueengine 3 se aja tp buat yg suka click dan not a fan of accidental touch pilih ini aja. overall worth it, at least for now!!\\n\\nFinal Score: 9/10',\n",
       " 'Bass-nya mantap. Harganya terjangkau. Desainnya modern 😍.',\n",
       " 'lumayan,,sesuai harga,,,ga bisa pairing ke laptop win10,dah coba berbagai cara tapi blom sukses,,,smoga suatu saat bisa konek ke laptop,,,thanks seller,sukses terus',\n",
       " 'Barangnya original 👍 Suaranya jernih Nyaman dipakai lama',\n",
       " 'Barangnya original 👍. Ada garansi resmi. Suaranya jernih. Koneksi bluetooth kuat. Material premium. Nyaman dipakai lama. Desainnya modern 😍. Baterai tahan lama. Bass-nya mantap. Value for money.',\n",
       " 'terbaik sesuai harga',\n",
       " 'Barangnya original 👍. Suaranya jernih. Nyaman dipakai lama. Desainnya modern 😍. Koneksi bluetooth kuat.',\n",
       " 'Bass-nya mantap',\n",
       " \"Barangnya original 👍. Ada garansi resmi. Suaranya jernih. Nyaman dipakai lama. Koneksi bluetooth kuat. Desainnya modern 😍. Material premium. Baterai tahan lama. Noise cancellation mantap. Suaranya gurih. Bass-nya mantap. Koneksi Android lancar. Suaranya bersih. \\n\\ngatau kenapa kadang kalo dengerin lagu suka ada suara 'cletak' (idk how to pronounce it) kirain onderdil didalemnya pecah/lepas atau gimana tapi ga keliatan dan masih ok aja untuk saat ini. semoga aman2 dan awet deh ya\",\n",
       " 'Ada garansi resmi. Koneksi bluetooth kuat.',\n",
       " 'Koneksi blutut kuat, pancaran gak terganggu meski ruang tengah ke dapur terhalang tembok (bbrp merk lain terganggu atau malah terputus koneksi)\\nBatere tahan 12 jam non stop playing max volume\\nKualitas suara standar tapi cukup lah buat aktivitas sehari2, krn tujuannya tws yg batere tahan nonstop 12 jam atau lebih\\n\\nFitur lainnya sesuai iklan dan oke2 saja\\n\\nTombolnya tekan bukan sentuh, jadi nyaman kalo dipake berbaring ataupun kesenggol\\n\\nMic dipake buat telp, biasa saja kadang kurang sensitif mesti pake telapak tangan buat pantulkan suara dari mulut ke mic\\n\\nTapi overall puas\\nSeller juga good service fast respon jadinya cepat nyampe\\n\\nPalingan saran aja kalo ada bonus yg bisa jadi pengingat, kayaknya tambah sip tuh...pengikat langganan 😊\\n\\nRecommended seller.... Sukses selalu 👍🤘',\n",
       " 'barang sampai dengan cepat. seller sangat komunikatif. nyaman banget di pakainya. pakai helm juga masih aman ga sakit. kualitas suara bagus.',\n",
       " 'Proses cepat dr mulai order s.d sampai tujuan dan packaging aman.\\nUtk kualitas product bagus meski plastik tp desain premium, utk suara bass nya nendang tp masih balance dengan treble & vokalnya. Bukan tipe touch tp mesti di tekan untuk next, play, pause, volume dll yg mana suara tersebut terdengar tp tidak tll menganggu. Ada suara \"duk\" saat kepala digoyangkan tiba2.',\n",
       " 'Barangnya original 👍. Suaranya jernih. Nyaman dipakai lama.',\n",
       " 'Barangnya original 👍. Suaranya jernih. Harganya terjangkau. Koneksi Android lancar. Value for money. Mudah mudahan awet',\n",
       " 'Barang bagus dan sesuai deskripsi.',\n",
       " 'Awalnya sempet underestimate. Kualitas micnya lebih bagus dibanding TWS xiaomi atau baseus 👍👍😬 cocok buat yang sering zoom / concall',\n",
       " 'barangnya sudah sampai min tq yo🙂',\n",
       " 'Value for money. Koneksi Android lancar.',\n",
       " 'bagus',\n",
       " 'kualitas mantap, suara balance, pengiriman cepat & packing aman 👍',\n",
       " 'Alhamdulillah barang sudah sampai.packing aman bgt.demoga awet',\n",
       " 'Value for money.',\n",
       " 'barang bagus',\n",
       " 'Barangnya original 👍. Desainnya modern 😍. Koneksi bluetooth kuat. Noise cancellation mantap. Bass-nya mantap. Harganya terjangkau. Pengirimannya jg cep',\n",
       " 'Barangnya original 👍. Suaranya jernih. Nggak kresek-kresek. Suaranya bersih.',\n",
       " 'Awalnya sempet underestimate. Kualitas micnya lebih bagus dibanding TWS xiaomi atau baseus 👍👍😬 cocok buat yang sering zoom / concall',\n",
       " 'barangnya sudah sampai min tq yo🙂',\n",
       " 'Value for money. Koneksi Android lancar.',\n",
       " 'bagus',\n",
       " 'kualitas mantap, suara balance, pengiriman cepat & packing aman 👍',\n",
       " 'Alhamdulillah barang sudah sampai.packing aman bgt.demoga awet',\n",
       " 'Value for money.',\n",
       " 'Koneksi Android lancar. Suaranya bersih. Value for money. Bass-nya mantap. Noise cancellation mantap. Baterai tahan lama. Desainnya modern 😍. Koneksi bluetooth kuat. Barangnya original 👍. Suaranya jernih. Ada garansi resmi. Nyaman dipakai lama.',\n",
       " 'Mantap beterai nya awat, tahan lama',\n",
       " '',\n",
       " 'Barangnya original 👍.',\n",
       " 'Barangnya original 👍. Ada garansi resmi. Suaranya jernih. Desainnya modern 😍. Noise cancellation mantap. Koneksi bluetooth kuat. Kabelnya kuat. Nyaman dipakai lama.',\n",
       " 'Sudah test dipakai seharian. Dari dateng jam 9 pagi sampe jam 9 malem, volume 30-50% play/pause masih on terus. Di test dipaké keponakan 3 taun sambil lompat-lompat nyanyi juga ga copot.\\n\\nSuara low-mid-high ok semua. Cocok untuk semua lagu. Harga segini dengan performa kyk gini ok banget.\\n\\nNice product. Recommended.',\n",
       " 'Puas dengan suaranya, connect ke laptop juga lancar, case kecil, batterai lama, fitting mantab, ringan, terbaik dikelasnya kalo harga segini mah.',\n",
       " 'barang bagus',\n",
       " 'Proses konek ke handphonenya seamless, bassnya nendang bgt dengan rumbling yang terkontrol tapi details dan sound stagenya yaaa gitu deh, sesuai harga ajah. Volume agak kecil, 80-90% baru berasa lumayan. Tapi soal batere, top markotop. 15 jam playtime tu kayak lo ngecharge/naro di casenya seminggu sekali kalo sehari nyala 2 jam.',\n",
       " 'Puas, meski free ongkir dlm 3 hari nyampe,\\nKualitas middle, bass tdk terlalu dominan..buat yg senang vocal dan jazzy cocok',\n",
       " 'suaranya mantul, basnya juga berasa. semoga awet',\n",
       " 'barang original, paket rapih, pengiriman cepat.',\n",
       " 'alhamdulillah sudah sampai dengn slamat, barang original, suara ok. cumn saya ngelihat di toko lain harga segini dapet kepala charger.',\n",
       " 'packaging oke banget, barang sampenya juga cepet.. kualitas suara udh bagus',\n",
       " 'mantap',\n",
       " 'Keren 👍🏾',\n",
       " 'bagus barangnya...sebanding tidak kalah dengan 1 juta keatas...suaranya oke..bassnya oke..',\n",
       " 'sesuai deskripsi\\nkiriman kilat\\nheadset nya benar² mantul...',\n",
       " '',\n",
       " 'Pengiriman cepat. Packing sangat baik. Kemasannya premium sekali untuk harga semurah ini. Suara juga bagus dan koneksinya cepat',\n",
       " 'Kualitas beneran terjamin.. bukan touch control jd gak ngeganggu pas lagi olahraga... gak gampang lepas dari telinga.. tiap earbuds independent jd bisa pake salah satu mau kanan/kiri doang.. suara di tiap range mantep bgt.. gaming mode di coba pake aplikasi realdrum gada delay.. gak salah pilih buat range 500 rban.. semoga awet..',\n",
       " 'Bassnya nendang banget dikuping , bagi yang suka bas yang dalem sangat reccomend , fitting dikuping juga enak buat olahraga aman sih so far Barangnya original 👍. Ada garansi resmi. Material premium.',\n",
       " 'ini baru earbuds. qualitas bagus bngt, harga murah, packaging sangat aman, pake dus lalu didalam pake bubble wrap lagi. box earbuds looks so elegant. sangat direkomendasikan. zuppppperrrrrrr',\n",
       " 'suaranya bagus, bassnya nendang, dan baterai tahan lama. Dibuat lari juga Ok tidak mudah copot dari telinga.\\n\\nTapi tidak ada app untuk kontrol equalizer. Dan di telinga mungkin tidak se\"pas\" ketimbang merek2 yg premium. Tapi kalau pakenya biasa2 aja dan tidak banyak gerakan2 sih nggak apa-apa.',\n",
       " 'Saya pesan di bawah jam 8 pagi, jam 9 lewat sudah sampai. Prosesnya cepat sekali Soundpeats Official ini. Recommended beli produk Soundpeats mending di Official Store ini, tapi kalau bisa pas diskon biar lebih mantap!',\n",
       " '',\n",
       " 'barangnya bagus, packaging rapih, recommended',\n",
       " 'Denger musik, Nonton Film, Youtube, Telpon soundnya mantep.\\nUntuk gaming tinggal aktifin \"Gaming Mode\" udah ok banget, hampir gak nemu perbedaannya dengan headset kabel (delaynya tipiiiisss banget).\\nBuat sya worth it !!!!',\n",
       " 'TWS berfungsi dengan baik. kualitas suara juga bisa diadu dengan merk lain yg harganya jauh lebih mahal dari ini. nggak nyangka harga segini dapat kualitas seperti ini. cocok untuk basshead. semoga awet dah',\n",
       " 'Barang diterima dalam kondisi baik, pengiriman tepat waktu, packing aman. Good job 👍',\n",
       " 'Pantas saya kasih bintang lima. Dari segi pelayanan, seller fast respon dan mau diajak kerja sama juga. Untuk produk yang terbilang tidak begitu fragile, seller sangat hati-hati dalam packaging dan memberikan keamanan yang lebih.',\n",
       " 'sangat sangat worth it',\n",
       " 'buat sya suara nya bagus, sesuai dgn harga promo nya, klo sdh harga normal nya seperti nya not worth it, bass nya kurang bulat menurut ku tpi ttp enk, volume suara nya agak kurang keras pdhal udh di 100% dan pairing nya agak ribet, setelah itu aman.',\n",
       " 'bass nya nendang...',\n",
       " 'nice, kualitas suara mantep, cocok dngan selera sya, koneksi ok, gk ada delay, rekomended😉',\n",
       " 'Udah coba di pairing ke ios, aman, suara okelah.',\n",
       " 'Semuanya ok dan sesuai harga!',\n",
       " 'Untuk yang suka bass kalian bisa pilih produk tipe sonic ini, buat telpon suara clear walau ada bising di luar ( bising normal ya), so far great quality from soundpeats 👌',\n",
       " 'mantap',\n",
       " 'beli karena lihat review di youtube, ternyata benar kualitas tidak mengecewakan',\n",
       " 'Gak ribet pemakaiannya, sound quality juga mantap, connection gak putus2, mantap deh',\n",
       " 'Awalnya ga bisa connect sebelah tapi ternyata ada guidance langsung di boxnya.\\n\\nSuaranya sih oke aja buat telinga awam kayak saya.\\n\\nMasang spotify kok kadang keset2 suaranya kayak cd baret, ganggu banget, kenapa ya?\\n\\nYeeee dikasih bintang 4 sih, tapi kan dikasih komplen bales dong, malah bales pake template, nih gua bintang 2 in',\n",
       " 'Bagus banget kanan kiri oke bgt worthit lah harga segini',\n",
       " 'uda test sound dan oke, suara jernih.\\nbelinya pas diskon lagi hehee...',\n",
       " 'Barangnya original 👍. Ada garansi resmi. Suaranya bersih. bentukannya kalo menurutku kegedean mengurangi kenyamanan, tp masih bisa diterima, buat game pubg mode gamenya ok, delaynya tipis cuma aku ga nyaranin buat maen pubg ato sebangsanya pake tws. buat jogging oke telponan jg suara jernih jelas ga ada noise buatku',\n",
       " 'basshead banget. budsnya awet, belum pernah kehabisan batre sampe seminggu pake (pemakaian ringan).',\n",
       " 'Barangnya original 👍. Suaranya jernih. Desainnya modern 😍. Bass-nya mantap. Value for money.',\n",
       " 'okee',\n",
       " 'Mantapp banget ni Soundpeats Sonic. Kualitas suara nggak perlu diragukan untuk di kelas MID. Saat dipasang di gaming mode, suaranya seperti sedikit hilang, tapi low lattency nya keren, hampir tidak terasa lattency nya. Overall puas penggunaan 2 hari ini.\\n\\nsemoga awet',\n",
       " 'Ternyata memang produknya sebagus itu. Begitu sampai langsung coba dan tes di 2 perangkat, iphone 12 dan ipad mini 5 n it works perfectly. Tak ada masalah delay ataupun masalah koneksi. Lancar jayaaa😄👍',\n",
       " 'Suaranya jernih. Desainnya modern 😍.',\n",
       " 'build qualitynya bagus, bassnya tebel banget. pengiriman cepat hanya 1 hari. mantap👍🏻',\n",
       " 'Berfungsi baik',\n",
       " 'baru dipake bbrp hari podsnya udh gk bisa buat ngecash',\n",
       " 'ngirim produk sendiri dari kantor sendiri karena tokocabang hahaha, thanks gan',\n",
       " 'Real world test - Review penggunaan selama 7 hari. Totally worth it buat harga segini.\\n\\n__Fitur-fitur cakep seperti: Aptx adaptive, Game mode, Earbuds bisa dijadikan single.\\n__Sound characteristic: Dominan di low end, tapi frekuensi tinggi tidak sampai tertutup, masih terdengar baik, cocok untuk lagu bergenre Hiphop, Trap, Edm, dll.\\n__Fitting tidak masalah buat saya, tapi emang form factor earbuds nya agak besar jadi harus menyesuaikan dulu, setelah dicoba agak lama baru mulai terbiasa.\\n__Baterai super awet, saya biasa menggunakan ±5 jam, tidak pernah melihat indikator earbuds ini dibawah 90%. Digunakan 1-2 hari sepertinya masih kuat dan connectivity nya udah usb type c.\\n__Build quality nya bagus tapi bukan yang terbaik, design & warnanya cakep, closing dan opening case headsetnya juga lumayan satisfying.',\n",
       " 'Nice..\\nSudah lihat beberapa review, dan masih tetap diatas ekspektasi overall first impression nya.\\nMagnet case nya aja kayaknya kurang. Tapi overall built quality nya untuk harga segini sudah oke.\\nSemoga awet.',\n",
       " 'Nice for the price',\n",
       " 'Gantiin elite jabra active 65t yg suka trouble reduce sound. sound quality soundpeats ga kalah, minus anc sama bodynya aja yg agak gede. Dr sisi suara puas lah dibanding tws budget lain; compare sama anker soundcore life note juga masih enakan soundpeats ini suaranya.',\n",
       " 'Respon admin cepat, packing bagus, datang cepat, kemaren pesan hari ini datang, gw sebagai pertama kali pakai tws, kualitas suara sih bagus, bass nendang bgt, cma koq gw ngerasa volumnya pelan yah, padahal udah 60%-70% an, cuma gw ngerasa pelan aja, barang sesuai, semoga awet deh.',\n",
       " 'Barang bagus sesuai ekspektasi',\n",
       " 'terbaik ini ! 👌',\n",
       " 'Ini TWS bass nya puas banget. Seperti pakai wired earphone, clarity saya kasi nilai 90. Worth buy dengan harga 476rb.',\n",
       " 'pelayanan super, produk : sound quality overall bagus baik secara low, middle dan high.. tpi mmg utk type sonic yg dtonjolkan adalh low (bulat dan enak) tanpa menghilangkan mid dan high.. build quality bagus... harga? luar biasa, utk harga segini, juara abis..',\n",
       " 'Terbaik dikelasnya dengan rentan harga yg wajar,\\nuntuk music dan streaming movie gada latency.',\n",
       " 'Bass head wajib punya. Bass nya nendang sampe otak. Wkwkwk',\n",
       " 'Respon seller cepat, transaksi lgsg di proses, pesen jam 1 siang sore jam 6 brg lgsg sampai (padahal pakai bebas ongkir).\\nKualitas barang blm di tes, smg kualitas suaranya bagus.',\n",
       " 'Bagus si inii, cuma memang tipe yang ini disaranin untuk yang bass head ya karena dalem bassnya, Overall dengan build qualitynya worth dengan harganya.',\n",
       " 'Produk sesuai deskripsi, mantap',\n",
       " 'Packing rapi, Barang bagus, Sound oke, Bass nendang. cuma kurir AnterAja yg bikin panik, barang blm sampe tp di aplikasi di bilang sudah. walau akhirnya sampe juga tp lewat dr jam yg di tentukan di paket sameday',\n",
       " 'bagus dan keren, puas banget, suara treble and bassnya so balance, paling sebel kalo bass over dosis jadi biking gendang telinga ****** tapi ini so balance, cocok buat org normal yg ga doyan KDRT',\n",
       " 'Suaranya biasa aja',\n",
       " 'overall bagus\\nkualitas suaranya msh kurang',\n",
       " 'pelayanan super, produk : sound quality overall bagus baik secara low, middle dan high.. tpi mmg utk type sonic yg dtonjolkan adalh low (bulat dan enak) tanpa menghilangkan mid dan high.. build quality bagus... harga? luar biasa, utk harga segini, juara abis..',\n",
       " 'Terbaik dikelasnya dengan rentan harga yg wajar,\\nuntuk music dan streaming movie gada latency.',\n",
       " 'Bass head wajib punya. Bass nya nendang sampe otak. Wkwkwk',\n",
       " 'Respon seller cepat, transaksi lgsg di proses, pesen jam 1 siang sore jam 6 brg lgsg sampai (padahal pakai bebas ongkir).\\nKualitas barang blm di tes, smg kualitas suaranya bagus.',\n",
       " 'Bagus si inii, cuma memang tipe yang ini disaranin untuk yang bass head ya karena dalem bassnya, Overall dengan build qualitynya worth dengan harganya.',\n",
       " 'Produk sesuai deskripsi, mantap',\n",
       " 'Packing rapi, Barang bagus, Sound oke, Bass nendang. cuma kurir AnterAja yg bikin panik, barang blm sampe tp di aplikasi di bilang sudah. walau akhirnya sampe juga tp lewat dr jam yg di tentukan di paket sameday',\n",
       " 'bagus dan keren, puas banget, suara treble and bassnya so balance, paling sebel kalo bass over dosis jadi biking gendang telinga ****** tapi ini so balance, cocok buat org normal yg ga doyan KDRT',\n",
       " 'Suaranya biasa aja',\n",
       " 'overall bagus\\nkualitas suaranya msh kurang',\n",
       " 'Niceeeee',\n",
       " 'Suara bagus dan cukup nendang. Mic terdenger jelas dilawan bicara. Pengiriman cepat, pelayanan bagus',\n",
       " 'build quality sebanding sama harga nya. value for money aja.',\n",
       " 'So far so good. Bass cukup punchy, biarpun agak rumbling untuk beberapa kondisi, tapi clarity cukup oke. Minus menurut saya mungkin build quality bisa better dan volume leveling agak kecil dibanding Mi Airdots saya yang lama. Overall untuk TWS sub 500ribuan si sonic ini cukup komplit. Oiya CS whatsapp cukup komunikatif dan relatif kalem. Thanks',\n",
       " 'Bagus, tapi karakter suara nya emg agak mendam ya?',\n",
       " 'Pengiriman cepet puas banget. Produk jg bagus, soundny jg bagus, connect ke device juga ngk lama',\n",
       " 'Barangnya original 👍. Ada garansi resmi. Koneksi bluetooth kuat. Noise cancellation mantap.',\n",
       " 'Enak, bass nya keluar, treble nya juga okeh. cuma saran, kalo bisa di kasih free pouch, biar gak lecet charge doc. nya',\n",
       " 'mantap',\n",
       " 'berkualitas, bagus, mantap',\n",
       " 'luar biasa cepat dan ramah',\n",
       " 'Ini sih aman banget packingnya udah gak usah ditanya lagi, untuk kualitas suaranya mantep pake banget, bassnya nampol, tapi gak nutupin instrumen yg lain, recommend banget ni tws, kurang di fittingnya aja yg kerasa kurang pas',\n",
       " 'Suaranya mantebs, pairing lancar, modelnya bagus dan mewah.\\nPengiriman cepet bgt, pesen next day tapi nyampe sameday (malem) pdhl belinya siang.\\nSalut buat seller dan kurirnya, thx',\n",
       " 'Pengemasan cepat, barang berfungsi dengan baik.\\n\\nReview:\\n1. Ringan\\n2. Nempel ditelinga meski geleng-geleng sambil lari\\n3. Suara more than lumayan, ada harga ada kualitas. Menurut saya untuk harga segini pas, saya pernah pake yg harga 300an masih ada noise pas ngobrol\\n4. Pairing cepat\\n5. Ada tombol jadi kerasa klo udah mencet\\n6. Udah coba buat dipake ngobrol, suara jernihh dan jelas\\n\\nBaru pake, nanti jika ada perubahan akan saya tambahkan.\\n\\nThanks seller',\n",
       " 'Nice. Seller juga ramah dan fast respon 👍',\n",
       " '',\n",
       " '',\n",
       " '',\n",
       " '',\n",
       " '']"
      ]
     },
     "execution_count": 70,
     "metadata": {},
     "output_type": "execute_result"
    }
   ],
   "source": [
    "reviews"
   ]
  },
  {
   "cell_type": "code",
   "execution_count": null,
   "id": "c9106156",
   "metadata": {},
   "outputs": [],
   "source": []
  }
 ],
 "metadata": {
  "kernelspec": {
   "display_name": "Python 3",
   "language": "python",
   "name": "python3"
  },
  "language_info": {
   "codemirror_mode": {
    "name": "ipython",
    "version": 3
   },
   "file_extension": ".py",
   "mimetype": "text/x-python",
   "name": "python",
   "nbconvert_exporter": "python",
   "pygments_lexer": "ipython3",
   "version": "3.8.10"
  }
 },
 "nbformat": 4,
 "nbformat_minor": 5
}
